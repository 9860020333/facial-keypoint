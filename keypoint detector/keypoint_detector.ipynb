{
 "cells": [
  {
   "cell_type": "code",
   "execution_count": null,
   "metadata": {},
   "outputs": [],
   "source": [
    "import pandas as pd\n",
    "import matplotlib.pyplot as plt\n",
    "import numpy as np\n",
    "import tensorflow as tf\n",
    "from tqdm import tqdm\n",
    "import cv2\n",
    "import math"
   ]
  },
  {
   "cell_type": "code",
   "execution_count": null,
   "metadata": {},
   "outputs": [],
   "source": [
    "def nan_check(value):\n",
    "    for x in value:\n",
    "        if math.isnan(x) == True:\n",
    "            return True\n",
    "    return False\n",
    "        \n",
    "            "
   ]
  },
  {
   "cell_type": "code",
   "execution_count": null,
   "metadata": {},
   "outputs": [],
   "source": [
    "def data_extractor(path):\n",
    "    image = []\n",
    "    keys = []\n",
    "    data = np.array(pd.read_csv(path))\n",
    "    data = np.reshape(data, (len(data),1,31))\n",
    "    for i in tqdm(range(len(data))):\n",
    "        if (data[i].shape[1] == 31 and nan_check(data[i][0,:30]) == False):\n",
    "            points = [int(u) for u in data[i][0,:30]]\n",
    "            keys.append(points)\n",
    "            temp_image = data[i][0,30]\n",
    "            temp_image=temp_image.split(' ')\n",
    "            j=[]\n",
    "            for value in temp_image:\n",
    "                j.append(int(value))\n",
    "            j= np.array(j).reshape(96,96,1)\n",
    "            image.append(j)\n",
    "    return image,keys"
   ]
  },
  {
   "cell_type": "code",
   "execution_count": null,
   "metadata": {},
   "outputs": [],
   "source": [
    "def for_test(path):\n",
    "    image = []\n",
    "    data = np.array(pd.read_csv(path))\n",
    "    for i in tqdm(range(len(data))):\n",
    "        temp = data[i][1]\n",
    "        temp = temp.split(' ')\n",
    "        j=[]\n",
    "        for value in temp:\n",
    "            j.append(int(value))\n",
    "        j= np.array(j).reshape(96,96,1)\n",
    "        image.append(j)\n",
    "    return image"
   ]
  },
  {
   "cell_type": "code",
   "execution_count": null,
   "metadata": {},
   "outputs": [],
   "source": [
    "training_path = r\"C:\\Users\\bisha\\Desktop\\facial-keypoints\\training.csv\"\n",
    "print(\"generating the training data:\")\n",
    "train_images,train_keys = data_extractor(training_path)"
   ]
  },
  {
   "cell_type": "code",
   "execution_count": null,
   "metadata": {},
   "outputs": [],
   "source": [
    "testing_path = r\"C:\\Users\\bisha\\Desktop\\facial-keypoints\\test.csv\"\n",
    "print(\"generating the testing data:\")\n",
    "test_images = for_test(testing_path)"
   ]
  },
  {
   "cell_type": "code",
   "execution_count": null,
   "metadata": {},
   "outputs": [],
   "source": [
    "training_images = np.array(train_images)\n",
    "\n",
    "training_keys = np.array(train_keys)\n",
    "\n",
    "test_images = np.array(test_images)\n",
    "\n",
    "print(\"training data:\")\n",
    "print(training_images.shape)\n",
    "print(training_keys.shape)\n",
    "\n",
    "print(\"testing data:\")\n",
    "print(test_images.shape)"
   ]
  },
  {
   "cell_type": "code",
   "execution_count": null,
   "metadata": {},
   "outputs": [],
   "source": [
    "img_inputs = tf.keras.Input(shape=(96, 96, 1))\n",
    "conv=tf.keras.layers.Conv2D(16,(3,3),padding='same',input_shape=(96,96,1),activation='relu')\n",
    "x=conv(img_inputs)\n",
    "x=tf.keras.layers.MaxPooling2D(2)(x)\n",
    "x=tf.keras.layers.Conv2D(32,(3,3),padding='same',activation='relu')(x)\n",
    "x=tf.keras.layers.MaxPooling2D(2)(x)\n",
    "x=tf.keras.layers.Conv2D(64,(3,3),padding='same',activation='relu')(x)\n",
    "x=tf.keras.layers.MaxPooling2D(2)(x)\n",
    "x=tf.keras.layers.Conv2D(128,(3,3),padding='same',activation='relu')(x)\n",
    "x=tf.keras.layers.MaxPooling2D(2)(x)\n",
    "x=tf.keras.layers.Conv2D(128,(3,3),padding='same',activation='relu')(x)\n",
    "x=tf.keras.layers.MaxPooling2D(2)(x)\n",
    "# x=tf.keras.layers.Conv2D(70,(3,3),padding='same',activation='relu')(x)\n",
    "# x=tf.keras.layers.MaxPooling2D(2,2)(x)\n",
    "# x=tf.keras.layers.Conv2D(80,(3,3),padding='same',activation='relu')(x)\n",
    "x=tf.keras.layers.Flatten()(x)\n",
    "o1=tf.keras.layers.Dense(512,activation='relu')(x)\n",
    "# o1=tf.keras.layers.Dense(80,activation='relu')(o1)\n",
    "o1=tf.keras.layers.Dropout(0.2)(o1)\n",
    "o1=tf.keras.layers.Dense(30)(o1)\n",
    "\n",
    "model = tf.keras.models.Model(inputs=img_inputs, outputs= o1)"
   ]
  },
  {
   "cell_type": "code",
   "execution_count": null,
   "metadata": {},
   "outputs": [],
   "source": [
    "model.compile(optimizer=\"adam\", loss=\"mean_squared_error\",metrics=[\"accuracy\"])"
   ]
  },
  {
   "cell_type": "code",
   "execution_count": null,
   "metadata": {},
   "outputs": [],
   "source": [
    "history=model.fit(training_images, training_keys, batch_size = 128, epochs=150, validation_split = 0.02 )"
   ]
  },
  {
   "cell_type": "code",
   "execution_count": null,
   "metadata": {},
   "outputs": [],
   "source": [
    "#training visualization\n",
    "\n",
    "plt.plot(history.history[\"loss\"])\n",
    "plt.plot(history.history[\"val_loss\"])\n",
    "plt.show()"
   ]
  },
  {
   "cell_type": "code",
   "execution_count": null,
   "metadata": {},
   "outputs": [],
   "source": [
    "#saving the model\n",
    "model.save(r\"C:\\Users\\bisha\\Desktop\\facial-keypoints\\code\\saved_model\\key_model.h5\")"
   ]
  },
  {
   "cell_type": "code",
   "execution_count": null,
   "metadata": {},
   "outputs": [],
   "source": [
    "#image key plotting...\n",
    "# x is a image matrix\n",
    "#k is the key values\n",
    "x=[]\n",
    "k=[]\n",
    "color = 255\n",
    "isClosed = True\n",
    "thickness = 4\n",
    "x = test_images[1]\n",
    "k = model.predict(test_images[1])\n",
    "#defining face shape:\n",
    "p1 = [[int(k[4]),int(k[5])] , [int(k[12]),int(k[13])] , [int(k[14]),int(k[15])] , [int(k[6]),int(k[7])], [int(k[0]),int(k[1])]]\n",
    "p2 = [[int(k[8]),int(k[9])] , [int(k[16]),int(k[17])] , [int(k[18]),int(k[19])] , [int(k[10]),int(k[11])], [int(k[2]),int(k[3])]]\n",
    "p3 = [[int(k[20]),int(k[21])], [int(k[4]),int(k[5])] , [int(k[0]),int(k[1])], [int(k[6]),int(k[7])]]\n",
    "p4 = [[int(k[20]),int(k[21])], [int(k[8]),int(k[9])] , [int(k[2]),int(k[3])], [int(k[10]),int(k[11])]]\n",
    "p5 = [[int(k[10]),int(k[11])] , [int(k[20]),int(k[21])], [int(k[22]),int(k[23])], [int(k[6]),int(k[7])], [int(k[24]),int(k[25])]]\n",
    "p6 = [[int(k[22]),int(k[23])], [int(k[26]),int(k[27])] , [int(k[24]),int(k[25])], [int(k[28]),int(k[29])]]\n",
    "feature=[p1,p2,p3,p4,p5,p6]\n",
    "for i in feature:\n",
    "    x = cv2.polylines(np.reshape(np.array(x),(96,96,1)).astype('uint8'), [np.array(i)], isClosed, color)\n",
    "cv2.imshow('x', x) \n",
    "cv2.waitKey(0)\n",
    "cv2.destroyAllWindows()"
   ]
  },
  {
   "cell_type": "code",
   "execution_count": null,
   "metadata": {},
   "outputs": [],
   "source": []
  },
  {
   "cell_type": "code",
   "execution_count": null,
   "metadata": {},
   "outputs": [],
   "source": []
  }
 ],
 "metadata": {
  "kernelspec": {
   "display_name": "Python 3.8.3 64-bit",
   "language": "python",
   "name": "python38364bit1db4d713191d4539ad9e32516778e193"
  },
  "language_info": {
   "codemirror_mode": {
    "name": "ipython",
    "version": 3
   },
   "file_extension": ".py",
   "mimetype": "text/x-python",
   "name": "python",
   "nbconvert_exporter": "python",
   "pygments_lexer": "ipython3",
   "version": "3.8.3"
  }
 },
 "nbformat": 4,
 "nbformat_minor": 4
}
